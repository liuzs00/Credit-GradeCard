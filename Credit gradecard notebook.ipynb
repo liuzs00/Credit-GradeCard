{
 "cells": [
  {
   "cell_type": "markdown",
   "metadata": {},
   "source": [
    "## 信用评分卡分析"
   ]
  },
  {
   "cell_type": "markdown",
   "metadata": {},
   "source": [
    "rankingcard.csv数据集该提供了15万条用户样本，每条样本包含12列属性，分别从还款率、额度使用率、历史逾期特征、借款人信息等不同维度出发对用户进行刻画。项目任务是根据用户的行为特征等预测用户在未来出现“90天或更长时间的逾期行为”的概率。\n",
    " -SeriousDlqin2yrs为标签数据，其他为特征数据."
   ]
  },
  {
   "cell_type": "code",
   "execution_count": 1,
   "metadata": {},
   "outputs": [],
   "source": [
    "import numpy as np\n",
    "import pandas as pd\n",
    "import matplotlib.pyplot as plt\n",
    "import seaborn\n",
    "%matplotlib inline\n",
    "import warnings\n",
    "warnings.filterwarnings('ignore') #  忽略弹出的warnings\n",
    "\n",
    "data = pd.read_csv('rankingcard.csv')\n",
    "data.drop(labels='Unnamed: 0',axis=1,inplace=True)\n",
    "# data.head(10)"
   ]
  },
  {
   "cell_type": "code",
   "execution_count": 5,
   "metadata": {},
   "outputs": [
    {
     "data": {
      "text/html": [
       "<div>\n",
       "<style scoped>\n",
       "    .dataframe tbody tr th:only-of-type {\n",
       "        vertical-align: middle;\n",
       "    }\n",
       "\n",
       "    .dataframe tbody tr th {\n",
       "        vertical-align: top;\n",
       "    }\n",
       "\n",
       "    .dataframe thead th {\n",
       "        text-align: right;\n",
       "    }\n",
       "</style>\n",
       "<table border=\"1\" class=\"dataframe\">\n",
       "  <thead>\n",
       "    <tr style=\"text-align: right;\">\n",
       "      <th></th>\n",
       "      <th>Label</th>\n",
       "      <th>RevolvingRatio</th>\n",
       "      <th>Age</th>\n",
       "      <th>30-59D</th>\n",
       "      <th>DebtRatio</th>\n",
       "      <th>MonthlyIncome</th>\n",
       "      <th>OpenL</th>\n",
       "      <th>90D</th>\n",
       "      <th>RealEstate</th>\n",
       "      <th>60-89D</th>\n",
       "      <th>Dependents</th>\n",
       "    </tr>\n",
       "  </thead>\n",
       "  <tbody>\n",
       "    <tr>\n",
       "      <th>0</th>\n",
       "      <td>1</td>\n",
       "      <td>0.766127</td>\n",
       "      <td>45</td>\n",
       "      <td>2</td>\n",
       "      <td>0.802982</td>\n",
       "      <td>9120.0</td>\n",
       "      <td>13</td>\n",
       "      <td>0</td>\n",
       "      <td>6</td>\n",
       "      <td>0</td>\n",
       "      <td>2.0</td>\n",
       "    </tr>\n",
       "    <tr>\n",
       "      <th>1</th>\n",
       "      <td>0</td>\n",
       "      <td>0.957151</td>\n",
       "      <td>40</td>\n",
       "      <td>0</td>\n",
       "      <td>0.121876</td>\n",
       "      <td>2600.0</td>\n",
       "      <td>4</td>\n",
       "      <td>0</td>\n",
       "      <td>0</td>\n",
       "      <td>0</td>\n",
       "      <td>1.0</td>\n",
       "    </tr>\n",
       "    <tr>\n",
       "      <th>2</th>\n",
       "      <td>0</td>\n",
       "      <td>0.658180</td>\n",
       "      <td>38</td>\n",
       "      <td>1</td>\n",
       "      <td>0.085113</td>\n",
       "      <td>3042.0</td>\n",
       "      <td>2</td>\n",
       "      <td>1</td>\n",
       "      <td>0</td>\n",
       "      <td>0</td>\n",
       "      <td>0.0</td>\n",
       "    </tr>\n",
       "    <tr>\n",
       "      <th>3</th>\n",
       "      <td>0</td>\n",
       "      <td>0.233810</td>\n",
       "      <td>30</td>\n",
       "      <td>0</td>\n",
       "      <td>0.036050</td>\n",
       "      <td>3300.0</td>\n",
       "      <td>5</td>\n",
       "      <td>0</td>\n",
       "      <td>0</td>\n",
       "      <td>0</td>\n",
       "      <td>0.0</td>\n",
       "    </tr>\n",
       "    <tr>\n",
       "      <th>4</th>\n",
       "      <td>0</td>\n",
       "      <td>0.907239</td>\n",
       "      <td>49</td>\n",
       "      <td>1</td>\n",
       "      <td>0.024926</td>\n",
       "      <td>63588.0</td>\n",
       "      <td>7</td>\n",
       "      <td>0</td>\n",
       "      <td>1</td>\n",
       "      <td>0</td>\n",
       "      <td>0.0</td>\n",
       "    </tr>\n",
       "  </tbody>\n",
       "</table>\n",
       "</div>"
      ],
      "text/plain": [
       "   Label  RevolvingRatio  Age  30-59D  DebtRatio  MonthlyIncome  OpenL  90D  \\\n",
       "0      1        0.766127   45       2   0.802982         9120.0     13    0   \n",
       "1      0        0.957151   40       0   0.121876         2600.0      4    0   \n",
       "2      0        0.658180   38       1   0.085113         3042.0      2    1   \n",
       "3      0        0.233810   30       0   0.036050         3300.0      5    0   \n",
       "4      0        0.907239   49       1   0.024926        63588.0      7    0   \n",
       "\n",
       "   RealEstate  60-89D  Dependents  \n",
       "0           6       0         2.0  \n",
       "1           0       0         1.0  \n",
       "2           0       0         0.0  \n",
       "3           0       0         0.0  \n",
       "4           1       0         0.0  "
      ]
     },
     "execution_count": 5,
     "metadata": {},
     "output_type": "execute_result"
    }
   ],
   "source": [
    "### 整理数据集\n",
    "data.columns = ['Label', 'RevolvingRatio', 'Age', '30-59D', 'DebtRatio', 'MonthlyIncome',\n",
    "                'OpenL', '90D', 'RealEstate', '60-89D', 'Dependents']    # 列重命名\n",
    "data.head()    # 观察整理后数据集 "
   ]
  },
  {
   "cell_type": "markdown",
   "metadata": {},
   "source": [
    "### 数据预处理"
   ]
  },
  {
   "cell_type": "markdown",
   "metadata": {},
   "source": [
    "#### 缺失值处理"
   ]
  },
  {
   "cell_type": "code",
   "execution_count": 6,
   "metadata": {},
   "outputs": [
    {
     "data": {
      "text/html": [
       "<div>\n",
       "<style scoped>\n",
       "    .dataframe tbody tr th:only-of-type {\n",
       "        vertical-align: middle;\n",
       "    }\n",
       "\n",
       "    .dataframe tbody tr th {\n",
       "        vertical-align: top;\n",
       "    }\n",
       "\n",
       "    .dataframe thead th {\n",
       "        text-align: right;\n",
       "    }\n",
       "</style>\n",
       "<table border=\"1\" class=\"dataframe\">\n",
       "  <thead>\n",
       "    <tr style=\"text-align: right;\">\n",
       "      <th></th>\n",
       "      <th>feature</th>\n",
       "      <th>miss_num</th>\n",
       "      <th>miss_percentage</th>\n",
       "    </tr>\n",
       "  </thead>\n",
       "  <tbody>\n",
       "    <tr>\n",
       "      <th>0</th>\n",
       "      <td>MonthlyIncome</td>\n",
       "      <td>29731</td>\n",
       "      <td>0.198207</td>\n",
       "    </tr>\n",
       "    <tr>\n",
       "      <th>1</th>\n",
       "      <td>Dependents</td>\n",
       "      <td>3924</td>\n",
       "      <td>0.026160</td>\n",
       "    </tr>\n",
       "    <tr>\n",
       "      <th>2</th>\n",
       "      <td>60-89D</td>\n",
       "      <td>0</td>\n",
       "      <td>0.000000</td>\n",
       "    </tr>\n",
       "    <tr>\n",
       "      <th>3</th>\n",
       "      <td>RealEstate</td>\n",
       "      <td>0</td>\n",
       "      <td>0.000000</td>\n",
       "    </tr>\n",
       "    <tr>\n",
       "      <th>4</th>\n",
       "      <td>90D</td>\n",
       "      <td>0</td>\n",
       "      <td>0.000000</td>\n",
       "    </tr>\n",
       "    <tr>\n",
       "      <th>5</th>\n",
       "      <td>OpenL</td>\n",
       "      <td>0</td>\n",
       "      <td>0.000000</td>\n",
       "    </tr>\n",
       "    <tr>\n",
       "      <th>6</th>\n",
       "      <td>DebtRatio</td>\n",
       "      <td>0</td>\n",
       "      <td>0.000000</td>\n",
       "    </tr>\n",
       "    <tr>\n",
       "      <th>7</th>\n",
       "      <td>30-59D</td>\n",
       "      <td>0</td>\n",
       "      <td>0.000000</td>\n",
       "    </tr>\n",
       "    <tr>\n",
       "      <th>8</th>\n",
       "      <td>Age</td>\n",
       "      <td>0</td>\n",
       "      <td>0.000000</td>\n",
       "    </tr>\n",
       "    <tr>\n",
       "      <th>9</th>\n",
       "      <td>RevolvingRatio</td>\n",
       "      <td>0</td>\n",
       "      <td>0.000000</td>\n",
       "    </tr>\n",
       "    <tr>\n",
       "      <th>10</th>\n",
       "      <td>Label</td>\n",
       "      <td>0</td>\n",
       "      <td>0.000000</td>\n",
       "    </tr>\n",
       "  </tbody>\n",
       "</table>\n",
       "</div>"
      ],
      "text/plain": [
       "           feature  miss_num  miss_percentage\n",
       "0    MonthlyIncome     29731         0.198207\n",
       "1       Dependents      3924         0.026160\n",
       "2           60-89D         0         0.000000\n",
       "3       RealEstate         0         0.000000\n",
       "4              90D         0         0.000000\n",
       "5            OpenL         0         0.000000\n",
       "6        DebtRatio         0         0.000000\n",
       "7           30-59D         0         0.000000\n",
       "8              Age         0         0.000000\n",
       "9   RevolvingRatio         0         0.000000\n",
       "10           Label         0         0.000000"
      ]
     },
     "execution_count": 6,
     "metadata": {},
     "output_type": "execute_result"
    }
   ],
   "source": [
    "missingDf = data.isnull().sum().sort_values(ascending=False).reset_index()\n",
    "missingDf.columns = ['feature', 'miss_num']    \n",
    "missingDf['miss_percentage'] = missingDf['miss_num'] / data.shape[0]    # 缺失值比例\n",
    "missingDf"
   ]
  },
  {
   "cell_type": "markdown",
   "metadata": {},
   "source": [
    "- 可以发现所有特征中仅有两列含缺失值，即MonthlyIncome（月收入）和Dependents（家属人数）。\n",
    "    - 其中月收入特征缺失比例为19.8%，缺失较多，不能直接删除对应样本，本案例中选用随机森林进行建模填充；\n",
    "    - 家属人数特征缺失比例为2.6%，占比较小，可以考虑删除对应样本行，也可以进行填充，为了尽可能多地利用数据，本案例选用众数进行填充。"
   ]
  },
  {
   "cell_type": "markdown",
   "metadata": {},
   "source": [
    "- MonthlyIncome特征处理"
   ]
  },
  {
   "cell_type": "code",
   "execution_count": 7,
   "metadata": {},
   "outputs": [],
   "source": [
    "from sklearn.ensemble import RandomForestRegressor    \n",
    "# 用MonthlyIncome特征值非空的样本构建训练集，MonthlyIncome特征值缺失的样本构建测试集\n",
    "#月收入为预测结果\n",
    "df = data.iloc[:, [5,1,2,3,4,6,7,8,9]]# 原始数据集中的无缺失数值特征（不包含Dependents列）\n",
    "train = df.loc[df['MonthlyIncome'].notnull()] #月收入值为非空\n",
    "test = df.loc[df['MonthlyIncome'].isnull()] #月收入值为空\n",
    "   \n",
    "# 划分训练数据的特征和标签（label）\n",
    "x_train = train.iloc[:, 1:]\n",
    "y_train = train.iloc[:, 0]\n",
    "# 测试数据的特征数据\n",
    "x_test = test.iloc[:,1:] \n",
    "# 训练过程\n",
    "rf = RandomForestRegressor(random_state=0,n_estimators=200,max_depth=3,n_jobs=-1) \n",
    "rf.fit(x_train, y_train)\n",
    "# 预测过程\n",
    "pred = rf.predict(x_test).round(0)    # 预测值四舍五入并保留一位小数点"
   ]
  },
  {
   "cell_type": "code",
   "execution_count": 8,
   "metadata": {},
   "outputs": [],
   "source": [
    "#填补缺失值\n",
    "data.loc[(data['MonthlyIncome'].isnull()),'MonthlyIncome'] = pred    "
   ]
  },
  {
   "cell_type": "markdown",
   "metadata": {},
   "source": [
    "- Dependents特征处理"
   ]
  },
  {
   "cell_type": "code",
   "execution_count": 9,
   "metadata": {},
   "outputs": [],
   "source": [
    "# 这里采用众数(出现次数最多的数值)填充\n",
    "data['Dependents'].fillna(data['Dependents'].mode()[0], inplace=True)    "
   ]
  },
  {
   "cell_type": "markdown",
   "metadata": {},
   "source": [
    "#### 异常值处理\n",
    "- 用箱型图可以直观地对每一列特征进行观察，找到偏离正常范围较大的异常值。\n"
   ]
  },
  {
   "cell_type": "markdown",
   "metadata": {},
   "source": [
    "- 探测百分比类特征中是否存在异常值\n",
    "    - 百分比类特征有：\n",
    "        - RevolvingRatio：无担保信贷额度除以总额度\n",
    "        - DebtRatio：每月的负债比率"
   ]
  },
  {
   "cell_type": "code",
   "execution_count": 10,
   "metadata": {},
   "outputs": [
    {
     "data": {
      "text/plain": [
       "Text(0.5, 1.0, 'RevolvingRatio')"
      ]
     },
     "execution_count": 10,
     "metadata": {},
     "output_type": "execute_result"
    },
    {
     "data": {
      "image/png": "[encoded data removed]",
      "text/plain": [
       "<Figure size 720x360 with 1 Axes>"
      ]
     },
     "metadata": {
      "needs_background": "light"
     },
     "output_type": "display_data"
    }
   ],
   "source": [
    "#vert横向，showmeans显示均值，flierprops设置异常值属性\n",
    "plt.figure(figsize=(10,5))\n",
    "a = plt.boxplot(data['RevolvingRatio'],vert=False,showmeans=True,flierprops = {\"marker\":\"o\",\"markerfacecolor\":\"red\"})\n",
    "plt.title('RevolvingRatio')"
   ]
  },
  {
   "cell_type": "code",
   "execution_count": 11,
   "metadata": {},
   "outputs": [
    {
     "data": {
      "text/plain": [
       "Text(0.5, 1.0, 'DebtRatio')"
      ]
     },
     "execution_count": 11,
     "metadata": {},
     "output_type": "execute_result"
    },
    {
     "data": {
      "image/png": "[encoded data removed]",
      "text/plain": [
       "<Figure size 720x360 with 1 Axes>"
      ]
     },
     "metadata": {
      "needs_background": "light"
     },
     "output_type": "display_data"
    }
   ],
   "source": [
    "plt.figure(figsize=(10,5))\n",
    "aa = plt.boxplot(data['DebtRatio'],vert=False,showmeans=True,flierprops = {\"marker\":\"o\",\"markerfacecolor\":\"red\"})\n",
    "plt.title('DebtRatio')"
   ]
  },
  {
   "cell_type": "markdown",
   "metadata": {},
   "source": [
    "- 从实际意义出发进行理解这两者的取值范围都应该在[0,1]之间。因此选择的处理方法是将大于1的特征值视为异常值，用[0,1]之间特征值的均值进行填充"
   ]
  },
  {
   "cell_type": "code",
   "execution_count": 12,
   "metadata": {},
   "outputs": [],
   "source": [
    "r_s = data[data['RevolvingRatio'] <= 1]    # 去掉高于1的部分\n",
    "mean_value = r_s['RevolvingRatio'].mean()\n",
    "#填充\n",
    "data.loc[data['RevolvingRatio']>1,'RevolvingRatio'] = mean_value"
   ]
  },
  {
   "cell_type": "code",
   "execution_count": 13,
   "metadata": {},
   "outputs": [],
   "source": [
    "r_s = data[data['DebtRatio'] <= 1]    # 去掉高于1的部分\n",
    "mean_value = r_s['DebtRatio'].mean()\n",
    "#填充\n",
    "data.loc[data['DebtRatio']>1,'DebtRatio'] = mean_value"
   ]
  },
  {
   "cell_type": "markdown",
   "metadata": {},
   "source": [
    "- 探测逾期类特征中是否存在异常值\n",
    "    - 逾期特征：30-59D，60-89D，90D"
   ]
  },
  {
   "cell_type": "code",
   "execution_count": 14,
   "metadata": {},
   "outputs": [
    {
     "data": {
      "text/plain": [
       "Text(0.5, 1.0, '30-59D')"
      ]
     },
     "execution_count": 14,
     "metadata": {},
     "output_type": "execute_result"
    },
    {
     "data": {
      "image/png": "[encoded data removed]",
      "text/plain": [
       "<Figure size 1440x144 with 1 Axes>"
      ]
     },
     "metadata": {
      "needs_background": "light"
     },
     "output_type": "display_data"
    }
   ],
   "source": [
    "plt.figure(figsize=(20,2))\n",
    "a1 = plt.boxplot(data['30-59D'],vert=False,showmeans=True,flierprops = {\"marker\":\"o\",\"markerfacecolor\":\"red\"})\n",
    "plt.title('30-59D')"
   ]
  },
  {
   "cell_type": "code",
   "execution_count": 15,
   "metadata": {},
   "outputs": [
    {
     "data": {
      "text/plain": [
       "Text(0.5, 1.0, '60-89D')"
      ]
     },
     "execution_count": 15,
     "metadata": {},
     "output_type": "execute_result"
    },
    {
     "data": {
      "image/png": "[encoded data removed]",
      "text/plain": [
       "<Figure size 1440x144 with 1 Axes>"
      ]
     },
     "metadata": {
      "needs_background": "light"
     },
     "output_type": "display_data"
    }
   ],
   "source": [
    "plt.figure(figsize=(20,2))\n",
    "a1 = plt.boxplot(data['60-89D'],vert=False,showmeans=True,flierprops = {\"marker\":\"o\",\"markerfacecolor\":\"red\"})\n",
    "plt.title('60-89D')"
   ]
  },
  {
   "cell_type": "code",
   "execution_count": 16,
   "metadata": {},
   "outputs": [
    {
     "data": {
      "text/plain": [
       "Text(0.5, 1.0, '90D')"
      ]
     },
     "execution_count": 16,
     "metadata": {},
     "output_type": "execute_result"
    },
    {
     "data": {
      "image/png": "[encoded data removed]",
      "text/plain": [
       "<Figure size 1440x144 with 1 Axes>"
      ]
     },
     "metadata": {
      "needs_background": "light"
     },
     "output_type": "display_data"
    }
   ],
   "source": [
    "plt.figure(figsize=(20,2))\n",
    "a1 = plt.boxplot(data['90D'],vert=False,showmeans=True,flierprops = {\"marker\":\"o\",\"markerfacecolor\":\"red\"})\n",
    "plt.title('90D')"
   ]
  },
  {
   "cell_type": "code",
   "execution_count": 17,
   "metadata": {},
   "outputs": [
    {
     "name": "stdout",
     "output_type": "stream",
     "text": [
      "30-59D特征的异常样本数： 269\n",
      "60-89D特征的异常样本数： 269\n",
      "90D特征的异常样本数： 269\n"
     ]
    }
   ],
   "source": [
    "#根据图例我们可以将大于20的数值作为异常值，下面统计三列特征存在异常值的数量\n",
    "row1 = data[data['30-59D'] > 80]\n",
    "print(\"30-59D特征的异常样本数：\", row1.shape[0])\n",
    "row2 = data[data['60-89D'] > 80]\n",
    "print(\"60-89D特征的异常样本数：\", row2.shape[0])\n",
    "row3 = data[data['90D'] > 80]\n",
    "print(\"90D特征的异常样本数：\", row3.shape[0])"
   ]
  },
  {
   "cell_type": "code",
   "execution_count": 18,
   "metadata": {},
   "outputs": [],
   "source": [
    "#异常值数量不多，可以直接将其删除\n",
    "data.drop(data[data['30-59D']  > 80].index, inplace = True)   \n",
    "data.drop(data[data['60-89D']  > 80].index, inplace = True)    \n",
    "data.drop(data[data['90D']  > 80].index, inplace = True)    "
   ]
  },
  {
   "cell_type": "code",
   "execution_count": 19,
   "metadata": {},
   "outputs": [
    {
     "data": {
      "text/plain": [
       "(149731, 11)"
      ]
     },
     "execution_count": 19,
     "metadata": {},
     "output_type": "execute_result"
    }
   ],
   "source": [
    "data.shape"
   ]
  },
  {
   "cell_type": "markdown",
   "metadata": {},
   "source": [
    "- 探测年龄特征中是否存在异常值"
   ]
  },
  {
   "cell_type": "code",
   "execution_count": 20,
   "metadata": {},
   "outputs": [
    {
     "data": {
      "text/plain": [
       "Text(0.5, 1.0, 'Age')"
      ]
     },
     "execution_count": 20,
     "metadata": {},
     "output_type": "execute_result"
    },
    {
     "data": {
      "image/png": "[encoded data removed]",
      "text/plain": [
       "<Figure size 1440x144 with 1 Axes>"
      ]
     },
     "metadata": {
      "needs_background": "light"
     },
     "output_type": "display_data"
    }
   ],
   "source": [
    "plt.figure(figsize=(20,2))\n",
    "a1 = plt.boxplot(data['Age'],vert=False,showmeans=True,flierprops = {\"marker\":\"o\",\"markerfacecolor\":\"red\"})\n",
    "plt.title('Age')"
   ]
  },
  {
   "cell_type": "markdown",
   "metadata": {},
   "source": [
    "- Age代表借款人的年龄，从箱型图中很明显可以看出，年龄取值为0是异常值，由于只有一条样本，因此可以直接删除；而从实际情况出发，我们认为年龄在100左右的人应当不在借贷用户的年龄范围内，因此同样将超过箱型图上须的样本删除。"
   ]
  },
  {
   "cell_type": "code",
   "execution_count": 21,
   "metadata": {},
   "outputs": [],
   "source": [
    "data.drop(labels=data.loc[data['Age'] == 0].index,inplace=True)\n",
    "data.drop(labels=data.loc[data['Age'] >= 100].index,inplace=True)"
   ]
  },
  {
   "cell_type": "code",
   "execution_count": 22,
   "metadata": {},
   "outputs": [
    {
     "data": {
      "text/plain": [
       "(149717, 11)"
      ]
     },
     "execution_count": 22,
     "metadata": {},
     "output_type": "execute_result"
    }
   ],
   "source": [
    "data.shape"
   ]
  },
  {
   "cell_type": "markdown",
   "metadata": {},
   "source": [
    "- 探测其余特征中是否存在异常值\n",
    "    - MonthlyIncome特征：月收入\n",
    "    - OpenL特征：未结贷款和信用额度的数量\n",
    "    - RealEstate特征：抵押和房地产贷款数量\n",
    "    - Dependents特征：除本人以外的家属人数"
   ]
  },
  {
   "cell_type": "code",
   "execution_count": 23,
   "metadata": {},
   "outputs": [
    {
     "data": {
      "text/plain": [
       "Text(0.5, 1.0, 'MonthlyIncome')"
      ]
     },
     "execution_count": 23,
     "metadata": {},
     "output_type": "execute_result"
    },
    {
     "data": {
      "image/png": "[encoded data removed]",
      "text/plain": [
       "<Figure size 1440x144 with 1 Axes>"
      ]
     },
     "metadata": {
      "needs_background": "light"
     },
     "output_type": "display_data"
    }
   ],
   "source": [
    "#月收入\n",
    "plt.figure(figsize=(20,2))\n",
    "a1 = plt.boxplot(data['MonthlyIncome'],vert=False,showmeans=True,flierprops = {\"marker\":\"o\",\"markerfacecolor\":\"red\"})\n",
    "plt.title('MonthlyIncome')"
   ]
  },
  {
   "cell_type": "code",
   "execution_count": 24,
   "metadata": {},
   "outputs": [
    {
     "data": {
      "text/plain": [
       "Text(0.5, 1.0, 'OpenL')"
      ]
     },
     "execution_count": 24,
     "metadata": {},
     "output_type": "execute_result"
    },
    {
     "data": {
      "image/png": "[encoded data removed]",
      "text/plain": [
       "<Figure size 1440x144 with 1 Axes>"
      ]
     },
     "metadata": {
      "needs_background": "light"
     },
     "output_type": "display_data"
    }
   ],
   "source": [
    "#未结贷款和信用额度的数量\n",
    "plt.figure(figsize=(20,2))\n",
    "a1 = plt.boxplot(data['OpenL'],vert=False,showmeans=True,flierprops = {\"marker\":\"o\",\"markerfacecolor\":\"red\"})\n",
    "plt.title('OpenL')"
   ]
  },
  {
   "cell_type": "code",
   "execution_count": 25,
   "metadata": {},
   "outputs": [
    {
     "data": {
      "text/plain": [
       "Text(0.5, 1.0, 'RealEstate')"
      ]
     },
     "execution_count": 25,
     "metadata": {},
     "output_type": "execute_result"
    },
    {
     "data": {
      "image/png": "[encoded data removed]",
      "text/plain": [
       "<Figure size 1440x144 with 1 Axes>"
      ]
     },
     "metadata": {
      "needs_background": "light"
     },
     "output_type": "display_data"
    }
   ],
   "source": [
    "#抵押和房地产贷款数量\n",
    "plt.figure(figsize=(20,2))\n",
    "a1 = plt.boxplot(data['RealEstate'],vert=False,showmeans=True,flierprops = {\"marker\":\"o\",\"markerfacecolor\":\"red\"})\n",
    "plt.title('RealEstate')"
   ]
  },
  {
   "cell_type": "code",
   "execution_count": 26,
   "metadata": {},
   "outputs": [
    {
     "data": {
      "text/plain": [
       "Text(0.5, 1.0, 'Dependents')"
      ]
     },
     "execution_count": 26,
     "metadata": {},
     "output_type": "execute_result"
    },
    {
     "data": {
      "image/png": "[encoded data removed]",
      "text/plain": [
       "<Figure size 1440x144 with 1 Axes>"
      ]
     },
     "metadata": {
      "needs_background": "light"
     },
     "output_type": "display_data"
    }
   ],
   "source": [
    "#除本人以外的家属人数\n",
    "plt.figure(figsize=(20,2))\n",
    "a1 = plt.boxplot(data['Dependents'],vert=False,showmeans=True,flierprops = {\"marker\":\"o\",\"markerfacecolor\":\"red\"})\n",
    "plt.title('Dependents')"
   ]
  },
  {
   "cell_type": "markdown",
   "metadata": {},
   "source": [
    "- 从上图中，可看到上述4列特征均可能存在一定量的异常值，且异常值均分布在箱型图的其中一侧。我们在此暂时不进行处理，因为后续还有特征分箱环节。分箱可以直接将这些异常值限制在最右侧箱体中并进行重新编码（如果箱体中的IV值极低则可以考虑删除异常值），而不会用到原始特征值，这样也可以起到处理异常值的作用。"
   ]
  },
  {
   "cell_type": "markdown",
   "metadata": {},
   "source": [
    "### 特征工程"
   ]
  },
  {
   "cell_type": "markdown",
   "metadata": {},
   "source": [
    "#### 特征相关性分析"
   ]
  },
  {
   "cell_type": "code",
   "execution_count": 24,
   "metadata": {},
   "outputs": [
    {
     "data": {
      "text/plain": [
       "<AxesSubplot:>"
      ]
     },
     "execution_count": 24,
     "metadata": {},
     "output_type": "execute_result"
    },
    {
     "data": {
      "image/png": "[encoded data removed]",
      "text/plain": [
       "<Figure size 720x720 with 2 Axes>"
      ]
     },
     "metadata": {
      "needs_background": "light"
     },
     "output_type": "display_data"
    }
   ],
   "source": [
    "plt.figure(figsize=(10,10))\n",
    "feature_names = data.columns[1:]\n",
    "fea_corr = data[feature_names].corr()\n",
    "seaborn.heatmap(data=fea_corr,square=True,annot=True)"
   ]
  },
  {
   "cell_type": "markdown",
   "metadata": {},
   "source": [
    "- 由图可观察到各个特征之间的相关性较小，可以初步判定特征之间不存在明显的多重共线性问题（相关系数绝对值小于0.6），暂时不需要删除冗余特征。"
   ]
  },
  {
   "cell_type": "markdown",
   "metadata": {},
   "source": [
    "#### 新特征构建"
   ]
  },
  {
   "cell_type": "markdown",
   "metadata": {},
   "source": [
    "- 原始数据集中有10列特征，我们可以再构建一些新的连续值特征作为备选，同时也可对比原特征与新特征的预测能力。\n",
    "    - IncAvg:家庭中每个人分摊的平均月收入\n",
    "        - 月收入 / 家属人数+1\n",
    "    - MonthlyDept:每月的债务\n",
    "        - 月收入*每月的负债比率\n",
    "    - DeptAvg:家庭中平均每个人分摊每月应还债务\n",
    "        - 每月债务 / 家属人数+1"
   ]
  },
  {
   "cell_type": "code",
   "execution_count": 27,
   "metadata": {
    "collapsed": true
   },
   "outputs": [
    {
     "data": {
      "text/html": [
       "<div>\n",
       "<style scoped>\n",
       "    .dataframe tbody tr th:only-of-type {\n",
       "        vertical-align: middle;\n",
       "    }\n",
       "\n",
       "    .dataframe tbody tr th {\n",
       "        vertical-align: top;\n",
       "    }\n",
       "\n",
       "    .dataframe thead th {\n",
       "        text-align: right;\n",
       "    }\n",
       "</style>\n",
       "<table border=\"1\" class=\"dataframe\">\n",
       "  <thead>\n",
       "    <tr style=\"text-align: right;\">\n",
       "      <th></th>\n",
       "      <th>IncAvg</th>\n",
       "      <th>MonthlyDept</th>\n",
       "      <th>DeptAvg</th>\n",
       "    </tr>\n",
       "  </thead>\n",
       "  <tbody>\n",
       "    <tr>\n",
       "      <th>0</th>\n",
       "      <td>3040.000000</td>\n",
       "      <td>7323.197016</td>\n",
       "      <td>2441.065672</td>\n",
       "    </tr>\n",
       "    <tr>\n",
       "      <th>1</th>\n",
       "      <td>1300.000000</td>\n",
       "      <td>316.878123</td>\n",
       "      <td>158.439061</td>\n",
       "    </tr>\n",
       "    <tr>\n",
       "      <th>2</th>\n",
       "      <td>3042.000000</td>\n",
       "      <td>258.914887</td>\n",
       "      <td>258.914887</td>\n",
       "    </tr>\n",
       "    <tr>\n",
       "      <th>3</th>\n",
       "      <td>3300.000000</td>\n",
       "      <td>118.963951</td>\n",
       "      <td>118.963951</td>\n",
       "    </tr>\n",
       "    <tr>\n",
       "      <th>4</th>\n",
       "      <td>63588.000000</td>\n",
       "      <td>1584.975094</td>\n",
       "      <td>1584.975094</td>\n",
       "    </tr>\n",
       "    <tr>\n",
       "      <th>5</th>\n",
       "      <td>1750.000000</td>\n",
       "      <td>1314.624392</td>\n",
       "      <td>657.312196</td>\n",
       "    </tr>\n",
       "    <tr>\n",
       "      <th>6</th>\n",
       "      <td>8311.000000</td>\n",
       "      <td>2518.413491</td>\n",
       "      <td>2518.413491</td>\n",
       "    </tr>\n",
       "    <tr>\n",
       "      <th>7</th>\n",
       "      <td>3500.000000</td>\n",
       "      <td>734.790059</td>\n",
       "      <td>734.790059</td>\n",
       "    </tr>\n",
       "    <tr>\n",
       "      <th>8</th>\n",
       "      <td>1159.000000</td>\n",
       "      <td>351.202170</td>\n",
       "      <td>351.202170</td>\n",
       "    </tr>\n",
       "    <tr>\n",
       "      <th>9</th>\n",
       "      <td>7894.666667</td>\n",
       "      <td>14359.393699</td>\n",
       "      <td>4786.464566</td>\n",
       "    </tr>\n",
       "  </tbody>\n",
       "</table>\n",
       "</div>"
      ],
      "text/plain": [
       "         IncAvg   MonthlyDept      DeptAvg\n",
       "0   3040.000000   7323.197016  2441.065672\n",
       "1   1300.000000    316.878123   158.439061\n",
       "2   3042.000000    258.914887   258.914887\n",
       "3   3300.000000    118.963951   118.963951\n",
       "4  63588.000000   1584.975094  1584.975094\n",
       "5   1750.000000   1314.624392   657.312196\n",
       "6   8311.000000   2518.413491  2518.413491\n",
       "7   3500.000000    734.790059   734.790059\n",
       "8   1159.000000    351.202170   351.202170\n",
       "9   7894.666667  14359.393699  4786.464566"
      ]
     },
     "execution_count": 27,
     "metadata": {},
     "output_type": "execute_result"
    }
   ],
   "source": [
    "### 构建新特征\n",
    "# IncAvg:家庭中每个人分摊的平均月收入\n",
    "data['IncAvg'] = data['MonthlyIncome'] / (data['Dependents'] + 1)    \n",
    "# MonthlyDept:每月的债务\n",
    "data['MonthlyDept'] = data['MonthlyIncome'] * data['DebtRatio']\n",
    "# DeptAvg:家庭中平均每个人分摊每月应还债务\n",
    "data['DeptAvg'] = data['MonthlyDept'] / (data['Dependents'] + 1)\n",
    "\n",
    "data[['IncAvg', 'MonthlyDept', 'DeptAvg']].head(10)    # 查看新特征"
   ]
  },
  {
   "cell_type": "markdown",
   "metadata": {},
   "source": [
    "#### 分箱\n",
    "- 最优分箱：也称自动化分箱，通常采用一个评价指标来判断分箱合适的宽度和频率，评判标准可以是卡方值（卡方分箱）、熵值（单变量决策树算法）、相关系数（下属操作采用该种形式）、IV值等等。\n",
    "- 自定义分箱：如果常用的分箱方法不能满足要求的话，还可以从业务解释或者数据分布出发，自行划分箱体区间，做自定义分箱。"
   ]
  },
  {
   "cell_type": "markdown",
   "metadata": {},
   "source": [
    "- 最优分箱/自动分箱函数定义"
   ]
  },
  {
   "cell_type": "code",
   "execution_count": 28,
   "metadata": {},
   "outputs": [],
   "source": [
    "### 定义分箱函数：最优分箱/自动分箱函数定义\n",
    "from scipy.stats import stats\n",
    "def optimal_bins(Y, X, n):\n",
    "    \"\"\"\n",
    "    :param Y: 目标变量（0，1组成的二分类结果）\n",
    "    :param X: 待分箱特征\n",
    "    :param n: 分箱数初始值\n",
    "    :return: 统计值、分箱边界值列表、woe值、iv值\n",
    "    \"\"\"\n",
    "    r = 0 #相关系数的初始值\n",
    "    total_bad = Y.sum() # 总的坏样本数\n",
    "    total_good = Y.count() - total_bad # 总的好样本数\n",
    "    # 分箱过程\n",
    "    while np.abs(r) < 1:  #相关系数的绝对值等于1结束循环，循环追求最好正反高相关性  \n",
    "        #df1中的bin为给X分箱对应的结果\n",
    "        df1 = pd.DataFrame({'X':X, 'Y':Y, 'bin':pd.qcut(X, n,duplicates='drop')})#drop表示删除重复元素\n",
    "        #将df1基于箱子进行分组\n",
    "        df2 = df1.groupby('bin')\n",
    "        #r返回的是df1对箱子分组后，每组数据X的均值和Y的均值的相关系数，如果系数不为正负1，则减少分箱的箱数\n",
    "        #corr也可以计算相关系数\n",
    "        r,p = stats.spearmanr(df2.mean().X,df2.mean().Y)\n",
    "        #分箱后要追求X，Y的最高相关性。相关性越高则表示特征X对于分类结果越重要\n",
    "        n = n - 1\n",
    "    # 计算woe值和iv值\n",
    "    df3 = pd.DataFrame()\n",
    "    df3['sum'] = df2.sum().Y#基于箱子分组后，每组中1类别（坏样本）样本数量\n",
    "    df3['total'] = df2.count().Y#基于箱子分组后，每组中所有样本的数量\n",
    "    df3['badattr'] = df3['sum'] / total_bad#每组中坏样本占数据集中所有坏样本的比例\n",
    "    df3['goodattr'] = (df3['total'] - df3['sum']) / total_good#每组中好样本占数据集中所有好样本的比例\n",
    "    df3['woe'] = np.log(df3['badattr'] / df3['goodattr'])\n",
    "    iv = ((df3['badattr'] - df3['goodattr']) * df3['woe']).sum()\n",
    "    # 分箱边界值列表\n",
    "    cut = []\n",
    "    for i in range(1, n+2):#i的取值范围是1-》(n+1)，n+1是分箱的数量\n",
    "        #quantile把给定的乱序数值由小到大排列并分成n等份，参数表示取出第百分之多少大小的数值\n",
    "        #i的取值范围是1-n，则quantile参数以此为1/n,2/n,n/n,则表示以此取出每个箱子最右侧值(箱子范围的最大值)\n",
    "        qua = X.quantile(i / (n+1))\n",
    "        cut.append(round(qua, 6))\n",
    "    # woe值列表\n",
    "    woe = list(df3['woe'])\n",
    "    return df3, cut, woe, iv"
   ]
  },
  {
   "cell_type": "markdown",
   "metadata": {},
   "source": [
    "- 观察RevolvingRatio特征各分箱情况"
   ]
  },
  {
   "cell_type": "code",
   "execution_count": 51,
   "metadata": {},
   "outputs": [
    {
     "data": {
      "text/html": [
       "<div>\n",
       "<style scoped>\n",
       "    .dataframe tbody tr th:only-of-type {\n",
       "        vertical-align: middle;\n",
       "    }\n",
       "\n",
       "    .dataframe tbody tr th {\n",
       "        vertical-align: top;\n",
       "    }\n",
       "\n",
       "    .dataframe thead th {\n",
       "        text-align: right;\n",
       "    }\n",
       "</style>\n",
       "<table border=\"1\" class=\"dataframe\">\n",
       "  <thead>\n",
       "    <tr style=\"text-align: right;\">\n",
       "      <th></th>\n",
       "      <th>sum</th>\n",
       "      <th>total</th>\n",
       "      <th>badattr</th>\n",
       "      <th>goodattr</th>\n",
       "      <th>woe</th>\n",
       "    </tr>\n",
       "    <tr>\n",
       "      <th>bin</th>\n",
       "      <th></th>\n",
       "      <th></th>\n",
       "      <th></th>\n",
       "      <th></th>\n",
       "      <th></th>\n",
       "    </tr>\n",
       "  </thead>\n",
       "  <tbody>\n",
       "    <tr>\n",
       "      <th>(-0.001, 0.0298]</th>\n",
       "      <td>687</td>\n",
       "      <td>37430</td>\n",
       "      <td>0.069548</td>\n",
       "      <td>0.262752</td>\n",
       "      <td>-1.329187</td>\n",
       "    </tr>\n",
       "    <tr>\n",
       "      <th>(0.0298, 0.153]</th>\n",
       "      <td>744</td>\n",
       "      <td>37429</td>\n",
       "      <td>0.075319</td>\n",
       "      <td>0.262337</td>\n",
       "      <td>-1.247900</td>\n",
       "    </tr>\n",
       "    <tr>\n",
       "      <th>(0.153, 0.504]</th>\n",
       "      <td>2819</td>\n",
       "      <td>37429</td>\n",
       "      <td>0.285382</td>\n",
       "      <td>0.247499</td>\n",
       "      <td>0.142421</td>\n",
       "    </tr>\n",
       "    <tr>\n",
       "      <th>(0.504, 1.0]</th>\n",
       "      <td>5628</td>\n",
       "      <td>37429</td>\n",
       "      <td>0.569751</td>\n",
       "      <td>0.227412</td>\n",
       "      <td>0.918438</td>\n",
       "    </tr>\n",
       "  </tbody>\n",
       "</table>\n",
       "</div>"
      ],
      "text/plain": [
       "                   sum  total   badattr  goodattr       woe\n",
       "bin                                                        \n",
       "(-0.001, 0.0298]   687  37430  0.069548  0.262752 -1.329187\n",
       "(0.0298, 0.153]    744  37429  0.075319  0.262337 -1.247900\n",
       "(0.153, 0.504]    2819  37429  0.285382  0.247499  0.142421\n",
       "(0.504, 1.0]      5628  37429  0.569751  0.227412  0.918438"
      ]
     },
     "execution_count": 51,
     "metadata": {},
     "output_type": "execute_result"
    }
   ],
   "source": [
    "rrDf, cut_rr, woe_rr, iv_rr = optimal_bins(data.Label,data.RevolvingRatio,n=10)\n",
    "rrDf"
   ]
  },
  {
   "cell_type": "code",
   "execution_count": 52,
   "metadata": {},
   "outputs": [
    {
     "data": {
      "text/plain": [
       "[0.029776, 0.153496, 0.504152, 1.0]"
      ]
     },
     "execution_count": 52,
     "metadata": {},
     "output_type": "execute_result"
    }
   ],
   "source": [
    "#观察RevolvingRatio特征分箱边界：则分了四个箱子\n",
    "cut_rr"
   ]
  },
  {
   "cell_type": "markdown",
   "metadata": {},
   "source": [
    "- 对MonthlyIncome、Age、DebtRatio特征进行分箱处理"
   ]
  },
  {
   "cell_type": "code",
   "execution_count": 53,
   "metadata": {},
   "outputs": [
    {
     "name": "stdout",
     "output_type": "stream",
     "text": [
      "MonthlyIncome特征分箱情况： [3299.0, 6750.0, 3008750.0]\n",
      "Age特征分箱情况： [33.0, 40.0, 45.0, 50.0, 54.0, 59.0, 64.0, 71.0, 99.0]\n",
      "DebtRatio特征分箱情况： [0.238913, 0.31217, 1.0]\n"
     ]
    }
   ],
   "source": [
    "# MonthlyIncome特征\n",
    "miDf,cut_mi,woe_mi,iv_mi = optimal_bins(data.Label,data.MonthlyIncome,n=10)\n",
    "print(\"MonthlyIncome特征分箱情况：\", cut_mi)\n",
    "# Age特征\n",
    "ageDf,cut_age,woe_age,iv_age = optimal_bins(data.Label,data.Age,n=10)\n",
    "print(\"Age特征分箱情况：\", cut_age)\n",
    "# DebtRatio特征\n",
    "drDf,cut_dr,woe_dr,iv_dr = optimal_bins(data.Label,data.DebtRatio,10)\n",
    "print(\"DebtRatio特征分箱情况：\", cut_dr)"
   ]
  },
  {
   "cell_type": "markdown",
   "metadata": {},
   "source": [
    "- 对新特征进行分箱处理"
   ]
  },
  {
   "cell_type": "code",
   "execution_count": 54,
   "metadata": {},
   "outputs": [
    {
     "name": "stdout",
     "output_type": "stream",
     "text": [
      "IncAvg特征特征分箱情况： [1700.0, 2959.0, 5400.0, 1794060.0]\n",
      "MonthlyDept特征分箱情况： [57086.823924]\n",
      "DeptAvg特征分箱情况： [351.20217, 773.917466, 1591.666665, 57086.823924]\n"
     ]
    }
   ],
   "source": [
    "### 新特征\n",
    "# IncAvg特征\n",
    "newDf1,cut_new1,woe_new1,iv_new1 = optimal_bins(data.Label, data.IncAvg, 10)\n",
    "# MonthlyDept特征\n",
    "newDf2,cut_new2,woe_new2,iv_new2 = optimal_bins(data.Label, data.MonthlyDept, 10)\n",
    "# DeptAvg特征\n",
    "newDf3,cut_new3,woe_new3,iv_new3 = optimal_bins(data.Label, data.DeptAvg, 10)\n",
    "\n",
    "print(\"IncAvg特征特征分箱情况：\", cut_new1)\n",
    "print(\"MonthlyDept特征分箱情况：\", cut_new2)\n",
    "print(\"DeptAvg特征分箱情况：\", cut_new3)"
   ]
  },
  {
   "cell_type": "markdown",
   "metadata": {},
   "source": [
    "- 观察到MonthlyDept特征进行分箱，分箱边界为[x]表示【箱子数为1则表示特征列和标签不相关，不建议分箱】\n",
    "    - MonthlyDept不适合使用最优分箱方法，需要寻找新的分箱方法进行处理。"
   ]
  },
  {
   "cell_type": "markdown",
   "metadata": {},
   "source": [
    "- 对其他6列原始特征，用最优分箱计算效果同样较差"
   ]
  },
  {
   "cell_type": "code",
   "execution_count": 55,
   "metadata": {},
   "outputs": [
    {
     "name": "stdout",
     "output_type": "stream",
     "text": [
      "[0.0, 0.0, 0.0, 0.0, 0.0, 13.0]\n",
      "[58.0]\n",
      "[0.0, 0.0, 0.0, 0.0, 0.0, 0.0, 0.0, 0.0, 0.0, 17.0]\n",
      "[0.0, 0.0, 0.0, 0.0, 0.0, 0.0, 0.0, 0.0, 0.0, 11.0]\n",
      "[54.0]\n",
      "[0.0, 0.0, 0.0, 0.0, 0.0, 0.0, 1.0, 2.0, 2.0, 20.0]\n"
     ]
    }
   ],
   "source": [
    "df1,cut1,woe1,iv1 = optimal_bins(data.Label,data['30-59D'],n=10)\n",
    "print(cut1)\n",
    "df2,cut2,woe2,iv2 = optimal_bins(data.Label,data.OpenL,n=10)\n",
    "print(cut2)\n",
    "df3,cut3,woe3,iv3 = optimal_bins(data.Label,data['90D'],n=10)\n",
    "print(cut3)\n",
    "df4,cut4,woe4,iv4 = optimal_bins(data.Label,data['60-89D'],n=10)\n",
    "print(cut4)\n",
    "df5,cut5,woe5,iv5 = optimal_bins(data.Label,data.RealEstate,n=10)\n",
    "print(cut5)\n",
    "df6,cut6,woe6,iv6 = optimal_bins(data.Label,data.Dependents,n=10)\n",
    "print(cut6)"
   ]
  },
  {
   "cell_type": "markdown",
   "metadata": {},
   "source": [
    "- 原因可能是某些特征值占比过高、阈值设置不合适等等，因此不能满足最优分段的要求。又由于特征不多且容易观察，因此本案例采取自定义分箱的方式进行处理。"
   ]
  },
  {
   "cell_type": "markdown",
   "metadata": {},
   "source": [
    "- 自定义分箱函数定义"
   ]
  },
  {
   "cell_type": "code",
   "execution_count": 63,
   "metadata": {},
   "outputs": [],
   "source": [
    "### 定义分箱函数\n",
    "def custom_bins(Y, X, binList):\n",
    "    \"\"\"\n",
    "    :param Y: 目标变量\n",
    "    :param X: 待分箱特征\n",
    "    :param binList: 分箱边界值列表\n",
    "    :return: 统计值、woe值、iv值\n",
    "    \"\"\"\n",
    "    r = 0\n",
    "    total_bad = Y.sum()     \n",
    "    total_good = Y.count() - total_bad\n",
    "    # 等距分箱\n",
    "    df1 = pd.DataFrame({'X':X, 'Y':Y, 'bin':pd.cut(X, binList)})\n",
    "    df2 = df1.groupby('bin', as_index = True)\n",
    "    r, p = stats.spearmanr(df2.mean().X, df2.mean().Y)\n",
    "    # 计算woe值和iv值 \n",
    "    df3 = pd.DataFrame()\n",
    "    df3['min_'+X.name] = df2.min().X \n",
    "    df3['max_'+X.name] = df2.max().X \n",
    "    df3['sum'] = df2.sum().Y\n",
    "    df3['total'] = df2.count().Y\n",
    "    df3['rate'] = df2.mean().Y\n",
    "    df3['badattr'] = df3['sum'] / total_bad\n",
    "    df3['goodattr'] = (df3['total'] - df3['sum']) / total_good\n",
    "    df3['woe'] = np.log(df3['badattr'] / df3['goodattr'])\n",
    "    iv = ((df3['badattr'] - df3['goodattr']) * df3['woe']).sum()\n",
    "    df3 = df3.sort_values(by='min_'+X.name).reset_index(drop=True)\n",
    "    woe = list(df3['woe'])\n",
    "    \n",
    "    return df3, woe, iv"
   ]
  },
  {
   "cell_type": "markdown",
   "metadata": {},
   "source": [
    "- 对MonthlyDept进行自定义分箱\n",
    "    - 定义分箱边界\n",
    "        - 通常是根据特征列的describe()中的25%，50%，75%作为边界"
   ]
  },
  {
   "cell_type": "code",
   "execution_count": 64,
   "metadata": {},
   "outputs": [
    {
     "data": {
      "text/plain": [
       "25%     412.922088\n",
       "50%    1207.766794\n",
       "75%    2518.413491\n",
       "Name: MonthlyDept, dtype: float64"
      ]
     },
     "execution_count": 64,
     "metadata": {},
     "output_type": "execute_result"
    }
   ],
   "source": [
    "data['MonthlyDept'].describe()[['25%','50%','75%']]"
   ]
  },
  {
   "cell_type": "code",
   "execution_count": 68,
   "metadata": {},
   "outputs": [
    {
     "data": {
      "text/html": [
       "<div>\n",
       "<style scoped>\n",
       "    .dataframe tbody tr th:only-of-type {\n",
       "        vertical-align: middle;\n",
       "    }\n",
       "\n",
       "    .dataframe tbody tr th {\n",
       "        vertical-align: top;\n",
       "    }\n",
       "\n",
       "    .dataframe thead th {\n",
       "        text-align: right;\n",
       "    }\n",
       "</style>\n",
       "<table border=\"1\" class=\"dataframe\">\n",
       "  <thead>\n",
       "    <tr style=\"text-align: right;\">\n",
       "      <th></th>\n",
       "      <th>min_MonthlyDept</th>\n",
       "      <th>max_MonthlyDept</th>\n",
       "      <th>sum</th>\n",
       "      <th>total</th>\n",
       "      <th>rate</th>\n",
       "      <th>badattr</th>\n",
       "      <th>goodattr</th>\n",
       "      <th>woe</th>\n",
       "    </tr>\n",
       "  </thead>\n",
       "  <tbody>\n",
       "    <tr>\n",
       "      <th>0</th>\n",
       "      <td>0.000000</td>\n",
       "      <td>413.979453</td>\n",
       "      <td>2430</td>\n",
       "      <td>37478</td>\n",
       "      <td>0.064838</td>\n",
       "      <td>0.246001</td>\n",
       "      <td>0.250631</td>\n",
       "      <td>-0.018646</td>\n",
       "    </tr>\n",
       "    <tr>\n",
       "      <th>1</th>\n",
       "      <td>414.585415</td>\n",
       "      <td>1208.881762</td>\n",
       "      <td>2584</td>\n",
       "      <td>37420</td>\n",
       "      <td>0.069054</td>\n",
       "      <td>0.261591</td>\n",
       "      <td>0.249115</td>\n",
       "      <td>0.048869</td>\n",
       "    </tr>\n",
       "    <tr>\n",
       "      <th>2</th>\n",
       "      <td>1209.136331</td>\n",
       "      <td>2517.832140</td>\n",
       "      <td>2215</td>\n",
       "      <td>34647</td>\n",
       "      <td>0.063930</td>\n",
       "      <td>0.224236</td>\n",
       "      <td>0.231924</td>\n",
       "      <td>-0.033711</td>\n",
       "    </tr>\n",
       "    <tr>\n",
       "      <th>3</th>\n",
       "      <td>2518.180547</td>\n",
       "      <td>57086.823924</td>\n",
       "      <td>2649</td>\n",
       "      <td>40172</td>\n",
       "      <td>0.065941</td>\n",
       "      <td>0.268172</td>\n",
       "      <td>0.268330</td>\n",
       "      <td>-0.000590</td>\n",
       "    </tr>\n",
       "  </tbody>\n",
       "</table>\n",
       "</div>"
      ],
      "text/plain": [
       "   min_MonthlyDept  max_MonthlyDept   sum  total      rate   badattr  \\\n",
       "0         0.000000       413.979453  2430  37478  0.064838  0.246001   \n",
       "1       414.585415      1208.881762  2584  37420  0.069054  0.261591   \n",
       "2      1209.136331      2517.832140  2215  34647  0.063930  0.224236   \n",
       "3      2518.180547     57086.823924  2649  40172  0.065941  0.268172   \n",
       "\n",
       "   goodattr       woe  \n",
       "0  0.250631 -0.018646  \n",
       "1  0.249115  0.048869  \n",
       "2  0.231924 -0.033711  \n",
       "3  0.268330 -0.000590  "
      ]
     },
     "execution_count": 68,
     "metadata": {},
     "output_type": "execute_result"
    }
   ],
   "source": [
    "# 新特征MonthlyDept自定义分箱\n",
    "ninf = float('-inf')#因为特征元素中存有异常值（使用-inf和inf包含异常值）\n",
    "pinf = float('inf')\n",
    "cut_new2 = [ninf, 414, 1209, 2518, pinf]  \n",
    "#分箱\n",
    "newDf2, woe_new2, iv_new2 = custom_bins(data.Label, data.MonthlyDept, cut_new2)\n",
    "newDf2"
   ]
  },
  {
   "cell_type": "markdown",
   "metadata": {},
   "source": [
    "- 同理对其他剩余特征进行自定义分箱"
   ]
  },
  {
   "cell_type": "code",
   "execution_count": 69,
   "metadata": {},
   "outputs": [],
   "source": [
    "cut_thirty = [ninf, 0, 1, 3, 5, pinf]    # 30-59D特征\n",
    "cut_open = [ninf,1, 2, 3, 5, pinf]    # OpenL特征\n",
    "cut_ninety = [ninf, 0, 1, 3, 5, pinf]    # 90D特征\n",
    "cut_re = [ninf, 0, 1, 2, 3, pinf]    # RealEstate特征\n",
    "cut_sixty = [ninf, 0, 1, 3, pinf]    # 60-89D特征\n",
    "cut_dpt = [ninf, 0, 1, 2, 3, 5, pinf]    # Dependents特征"
   ]
  },
  {
   "cell_type": "code",
   "execution_count": 70,
   "metadata": {},
   "outputs": [],
   "source": [
    "### 计算统计值、woe和iv\n",
    "thirtyDf, woe_thirty, iv_thirty = custom_bins(data.Label, data['30-59D'], cut_thirty)    # 30-59D特征\n",
    "openDf, woe_open, iv_open = custom_bins(data.Label, data.OpenL, cut_open)    # OpenL特征\n",
    "ninetyDf, woe_ninety, iv_ninety = custom_bins(data.Label, data['90D'], cut_ninety)    # 90D特征\n",
    "reDf, woe_re, iv_re = custom_bins(data.Label, data.RealEstate, cut_re)    # RealEstate特征\n",
    "sixtyDf, woe_sixty, iv_sixty = custom_bins(data.Label, data['60-89D'], cut_sixty)    # 60-89D特征\n",
    "dptDf, woe_dpt, iv_dpt = custom_bins(data.Label, data.Dependents, cut_dpt)    # Dependents特征"
   ]
  },
  {
   "cell_type": "markdown",
   "metadata": {},
   "source": [
    "- 基于IV值进行特征筛选"
   ]
  },
  {
   "cell_type": "code",
   "execution_count": 71,
   "metadata": {},
   "outputs": [
    {
     "data": {
      "text/html": [
       "<div>\n",
       "<style scoped>\n",
       "    .dataframe tbody tr th:only-of-type {\n",
       "        vertical-align: middle;\n",
       "    }\n",
       "\n",
       "    .dataframe tbody tr th {\n",
       "        vertical-align: top;\n",
       "    }\n",
       "\n",
       "    .dataframe thead th {\n",
       "        text-align: right;\n",
       "    }\n",
       "</style>\n",
       "<table border=\"1\" class=\"dataframe\">\n",
       "  <thead>\n",
       "    <tr style=\"text-align: right;\">\n",
       "      <th></th>\n",
       "      <th>feature</th>\n",
       "      <th>iv</th>\n",
       "    </tr>\n",
       "  </thead>\n",
       "  <tbody>\n",
       "    <tr>\n",
       "      <th>0</th>\n",
       "      <td>90D</td>\n",
       "      <td>0.847432</td>\n",
       "    </tr>\n",
       "    <tr>\n",
       "      <th>1</th>\n",
       "      <td>RevolvingRatio</td>\n",
       "      <td>0.809997</td>\n",
       "    </tr>\n",
       "    <tr>\n",
       "      <th>2</th>\n",
       "      <td>30-59D</td>\n",
       "      <td>0.723754</td>\n",
       "    </tr>\n",
       "    <tr>\n",
       "      <th>3</th>\n",
       "      <td>60-89D</td>\n",
       "      <td>0.566456</td>\n",
       "    </tr>\n",
       "    <tr>\n",
       "      <th>4</th>\n",
       "      <td>Age</td>\n",
       "      <td>0.250771</td>\n",
       "    </tr>\n",
       "    <tr>\n",
       "      <th>5</th>\n",
       "      <td>IncAvg</td>\n",
       "      <td>0.0752842</td>\n",
       "    </tr>\n",
       "    <tr>\n",
       "      <th>6</th>\n",
       "      <td>OpenL</td>\n",
       "      <td>0.0701032</td>\n",
       "    </tr>\n",
       "    <tr>\n",
       "      <th>7</th>\n",
       "      <td>RealEstate</td>\n",
       "      <td>0.0561616</td>\n",
       "    </tr>\n",
       "    <tr>\n",
       "      <th>8</th>\n",
       "      <td>MonthlyIncome</td>\n",
       "      <td>0.0422646</td>\n",
       "    </tr>\n",
       "    <tr>\n",
       "      <th>9</th>\n",
       "      <td>Dependents</td>\n",
       "      <td>0.037277</td>\n",
       "    </tr>\n",
       "    <tr>\n",
       "      <th>10</th>\n",
       "      <td>DebtRatio</td>\n",
       "      <td>0.0218635</td>\n",
       "    </tr>\n",
       "    <tr>\n",
       "      <th>11</th>\n",
       "      <td>DeptAvg</td>\n",
       "      <td>0.0049106</td>\n",
       "    </tr>\n",
       "    <tr>\n",
       "      <th>12</th>\n",
       "      <td>MonthlyDept</td>\n",
       "      <td>0.000955307</td>\n",
       "    </tr>\n",
       "  </tbody>\n",
       "</table>\n",
       "</div>"
      ],
      "text/plain": [
       "           feature           iv\n",
       "0              90D     0.847432\n",
       "1   RevolvingRatio     0.809997\n",
       "2           30-59D     0.723754\n",
       "3           60-89D     0.566456\n",
       "4              Age     0.250771\n",
       "5           IncAvg    0.0752842\n",
       "6            OpenL    0.0701032\n",
       "7       RealEstate    0.0561616\n",
       "8    MonthlyIncome    0.0422646\n",
       "9       Dependents     0.037277\n",
       "10       DebtRatio    0.0218635\n",
       "11         DeptAvg    0.0049106\n",
       "12     MonthlyDept  0.000955307"
      ]
     },
     "execution_count": 71,
     "metadata": {},
     "output_type": "execute_result"
    }
   ],
   "source": [
    "### 列表查看iv值\n",
    "ivDf = pd.DataFrame(columns=['feature', 'iv'])\n",
    "feaList = list(data.columns[1:])#获取特征列名称\n",
    "ivList = [iv_rr, iv_age, iv_thirty, iv_dr, iv_mi, iv_open, iv_ninety, iv_re, iv_sixty, iv_dpt, iv_new1, iv_new2, iv_new3]\n",
    "for i, x in enumerate(feaList):\n",
    "    ivDf.loc[i, 'feature'] = x\n",
    "    ivDf.loc[i, 'iv'] = ivList[i]\n",
    "ivDf = ivDf.sort_values(by='iv', ascending=False).reset_index(drop=True)    # 降序排列\n",
    "ivDf    # 查看表格"
   ]
  },
  {
   "cell_type": "markdown",
   "metadata": {},
   "source": [
    "- 根据iv值表格，小于0.1的特征可视为弱特征。将iv值小于0.1的特征弃之不用。即删除OpenL、RealEstate、MonthlyIncome、Dependents、DebtRatio 5列原始特征及三列新特征，剩余5列特征进行WOE编码。"
   ]
  },
  {
   "cell_type": "code",
   "execution_count": 151,
   "metadata": {},
   "outputs": [
    {
     "data": {
      "text/html": [
       "<div>\n",
       "<style scoped>\n",
       "    .dataframe tbody tr th:only-of-type {\n",
       "        vertical-align: middle;\n",
       "    }\n",
       "\n",
       "    .dataframe tbody tr th {\n",
       "        vertical-align: top;\n",
       "    }\n",
       "\n",
       "    .dataframe thead th {\n",
       "        text-align: right;\n",
       "    }\n",
       "</style>\n",
       "<table border=\"1\" class=\"dataframe\">\n",
       "  <thead>\n",
       "    <tr style=\"text-align: right;\">\n",
       "      <th></th>\n",
       "      <th>Label</th>\n",
       "      <th>90D</th>\n",
       "      <th>RevolvingRatio</th>\n",
       "      <th>30-59D</th>\n",
       "      <th>60-89D</th>\n",
       "      <th>Age</th>\n",
       "    </tr>\n",
       "  </thead>\n",
       "  <tbody>\n",
       "    <tr>\n",
       "      <th>0</th>\n",
       "      <td>1</td>\n",
       "      <td>-0.375874</td>\n",
       "      <td>0.142421</td>\n",
       "      <td>1.750366</td>\n",
       "      <td>-0.274342</td>\n",
       "      <td>0.268352</td>\n",
       "    </tr>\n",
       "    <tr>\n",
       "      <th>1</th>\n",
       "      <td>0</td>\n",
       "      <td>-0.375874</td>\n",
       "      <td>0.142421</td>\n",
       "      <td>-0.527715</td>\n",
       "      <td>-0.274342</td>\n",
       "      <td>0.378037</td>\n",
       "    </tr>\n",
       "    <tr>\n",
       "      <th>2</th>\n",
       "      <td>0</td>\n",
       "      <td>1.971875</td>\n",
       "      <td>0.142421</td>\n",
       "      <td>0.917634</td>\n",
       "      <td>-0.274342</td>\n",
       "      <td>0.378037</td>\n",
       "    </tr>\n",
       "    <tr>\n",
       "      <th>3</th>\n",
       "      <td>0</td>\n",
       "      <td>-0.375874</td>\n",
       "      <td>-1.247900</td>\n",
       "      <td>-0.527715</td>\n",
       "      <td>-0.274342</td>\n",
       "      <td>0.559990</td>\n",
       "    </tr>\n",
       "    <tr>\n",
       "      <th>4</th>\n",
       "      <td>0</td>\n",
       "      <td>-0.375874</td>\n",
       "      <td>0.142421</td>\n",
       "      <td>0.917634</td>\n",
       "      <td>-0.274342</td>\n",
       "      <td>0.204913</td>\n",
       "    </tr>\n",
       "    <tr>\n",
       "      <th>5</th>\n",
       "      <td>0</td>\n",
       "      <td>-0.375874</td>\n",
       "      <td>-1.247900</td>\n",
       "      <td>-0.527715</td>\n",
       "      <td>-0.274342</td>\n",
       "      <td>-0.905573</td>\n",
       "    </tr>\n",
       "    <tr>\n",
       "      <th>6</th>\n",
       "      <td>0</td>\n",
       "      <td>-0.375874</td>\n",
       "      <td>-1.247900</td>\n",
       "      <td>-0.527715</td>\n",
       "      <td>-0.274342</td>\n",
       "      <td>0.102200</td>\n",
       "    </tr>\n",
       "    <tr>\n",
       "      <th>7</th>\n",
       "      <td>0</td>\n",
       "      <td>-0.375874</td>\n",
       "      <td>0.142421</td>\n",
       "      <td>-0.527715</td>\n",
       "      <td>-0.274342</td>\n",
       "      <td>0.378037</td>\n",
       "    </tr>\n",
       "    <tr>\n",
       "      <th>8</th>\n",
       "      <td>0</td>\n",
       "      <td>-0.375874</td>\n",
       "      <td>-1.247900</td>\n",
       "      <td>-0.527715</td>\n",
       "      <td>-0.274342</td>\n",
       "      <td>0.559990</td>\n",
       "    </tr>\n",
       "    <tr>\n",
       "      <th>9</th>\n",
       "      <td>0</td>\n",
       "      <td>-0.375874</td>\n",
       "      <td>-1.247900</td>\n",
       "      <td>-0.527715</td>\n",
       "      <td>-0.274342</td>\n",
       "      <td>0.102200</td>\n",
       "    </tr>\n",
       "  </tbody>\n",
       "</table>\n",
       "</div>"
      ],
      "text/plain": [
       "   Label       90D RevolvingRatio    30-59D    60-89D       Age\n",
       "0      1 -0.375874       0.142421  1.750366 -0.274342  0.268352\n",
       "1      0 -0.375874       0.142421 -0.527715 -0.274342  0.378037\n",
       "2      0  1.971875       0.142421  0.917634 -0.274342  0.378037\n",
       "3      0 -0.375874      -1.247900 -0.527715 -0.274342  0.559990\n",
       "4      0 -0.375874       0.142421  0.917634 -0.274342  0.204913\n",
       "5      0 -0.375874      -1.247900 -0.527715 -0.274342 -0.905573\n",
       "6      0 -0.375874      -1.247900 -0.527715 -0.274342  0.102200\n",
       "7      0 -0.375874       0.142421 -0.527715 -0.274342  0.378037\n",
       "8      0 -0.375874      -1.247900 -0.527715 -0.274342  0.559990\n",
       "9      0 -0.375874      -1.247900 -0.527715 -0.274342  0.102200"
      ]
     },
     "execution_count": 151,
     "metadata": {},
     "output_type": "execute_result"
    }
   ],
   "source": [
    "### WOE编码\n",
    "data['90D'] = pd.cut(data['90D'] #分箱\n",
    "                     , bins=cut_ninety #根据之前定制好的分箱边界进行分箱\n",
    "                     , labels=woe_ninety) #根据之前计算好的woe的值进行原始数据的替换   \n",
    "\n",
    "data['RevolvingRatio'] = pd.cut(data['RevolvingRatio'], bins=cut_rr, labels=woe_rr) # RevolvingRatio特征\n",
    "data['30-59D'] = pd.cut(data['30-59D'], bins=cut_thirty, labels=woe_thirty)    # 30-59D特征\n",
    "data['60-89D'] = pd.cut(data['60-89D'], bins=cut_sixty, labels=woe_sixty)    # 60-89D特征\n",
    "data['Age'] = pd.cut(data['Age'], bins=cut_age, labels=woe_age)    # Age特征\n",
    "\n",
    "# 特征选择\n",
    "data = data[['Label', '90D', 'RevolvingRatio', '30-59D', '60-89D', 'Age']]    \n",
    "data.head(10)    # 此时的数据集"
   ]
  },
  {
   "cell_type": "markdown",
   "metadata": {},
   "source": [
    "### 算法模型构建"
   ]
  },
  {
   "cell_type": "markdown",
   "metadata": {},
   "source": [
    "- 划分数据集"
   ]
  },
  {
   "cell_type": "code",
   "execution_count": 152,
   "metadata": {},
   "outputs": [],
   "source": [
    "from sklearn.model_selection import train_test_split    # 数据集划分模块\n",
    "X = data.iloc[:, 1:]    # 特征\n",
    "y = data.iloc[:, 0]    # 目标变量\n",
    "X_train, X_test, y_train, y_test = train_test_split(X, y, test_size=0.3, random_state=0) "
   ]
  },
  {
   "cell_type": "markdown",
   "metadata": {},
   "source": [
    "- 逻辑回归"
   ]
  },
  {
   "cell_type": "code",
   "execution_count": 164,
   "metadata": {},
   "outputs": [],
   "source": [
    "from sklearn.linear_model import LogisticRegression\n",
    "\n",
    "model1 = LogisticRegression()    # 首先全部采用默认值进行训练\n",
    "clf1 = model1.fit(X_train, y_train)    # 模型训练\n",
    "y_pred1 = clf1.predict(X_test)    # 模型预测\n",
    "y_score1 = model1.predict_log_proba(X_test)[:,1]"
   ]
  },
  {
   "cell_type": "markdown",
   "metadata": {},
   "source": [
    "- 模型评估\n",
    "    - 二分类问题可以使用ROC曲线和AUC值进行评估"
   ]
  },
  {
   "cell_type": "code",
   "execution_count": 178,
   "metadata": {},
   "outputs": [
    {
     "data": {
      "text/plain": [
       "0.8372427251391301"
      ]
     },
     "execution_count": 178,
     "metadata": {},
     "output_type": "execute_result"
    }
   ],
   "source": [
    "from sklearn.metrics import roc_auc_score\n",
    "roc_auc_score(y_test,y_score1)"
   ]
  }
 ],
 "metadata": {
  "kernelspec": {
   "display_name": "Python 3",
   "language": "python",
   "name": "python3"
  },
  "language_info": {
   "codemirror_mode": {
    "name": "ipython",
    "version": 3
   },
   "file_extension": ".py",
   "mimetype": "text/x-python",
   "name": "python",
   "nbconvert_exporter": "python",
   "pygments_lexer": "ipython3",
   "version": "3.7.1"
  }
 },
 "nbformat": 4,
 "nbformat_minor": 2
}
